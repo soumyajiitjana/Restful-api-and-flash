{
  "nbformat": 4,
  "nbformat_minor": 0,
  "metadata": {
    "colab": {
      "provenance": []
    },
    "kernelspec": {
      "name": "python3",
      "display_name": "Python 3"
    },
    "language_info": {
      "name": "python"
    }
  },
  "cells": [
    {
      "cell_type": "code",
      "execution_count": null,
      "metadata": {
        "id": "bAdtgKDM9rmh"
      },
      "outputs": [],
      "source": []
    },
    {
      "cell_type": "markdown",
      "source": [
        "🔹 What is a RESTful API?\n",
        "A RESTful API (Representational State Transfer) is an architectural style for designing networked applications using HTTP requests to perform CRUD operations (Create, Read, Update, Delete) on resources, typically represented in JSON or XML.\n",
        "\n",
        "🔹 Explain the concept of API specification.\n",
        "An API specification defines the expected structure of an API — including endpoints, HTTP methods, request/response formats, authentication methods, and error codes. Examples include OpenAPI/Swagger, which help in documenting and standardizing APIs.\n",
        "\n",
        "🔹 What is Flask, and why is it popular for building APIs?\n",
        "Flask is a lightweight, Python-based web framework. It’s popular for APIs because it’s:\n",
        "\n",
        "Easy to learn\n",
        "\n",
        "Minimal and flexible\n",
        "\n",
        "Has extensions like Flask-RESTful, Flask-SQLAlchemy\n",
        "\n",
        "Suits both beginners and scalable production apps\n",
        "\n",
        "🔹 What is routing in Flask?\n",
        "Routing in Flask maps URLs to functions. When a user accesses a specific URL, Flask runs the associated function (called a view function).\n",
        "\n",
        "🔹 How do you create a simple Flask application?\n",
        "python\n",
        "Copy\n",
        "Edit\n",
        "from flask import Flask\n",
        "\n",
        "app = Flask(__name__)\n",
        "\n",
        "@app.route(\"/\")\n",
        "def home():\n",
        "    return \"Hello, Flask!\"\n",
        "\n",
        "if __name__ == \"__main__\":\n",
        "    app.run()\n",
        "🔹 What are HTTP methods used in RESTful APIs?\n",
        "GET: Retrieve data\n",
        "\n",
        "POST: Submit data\n",
        "\n",
        "PUT: Update data\n",
        "\n",
        "DELETE: Remove data\n",
        "\n",
        "PATCH: Partially update data\n",
        "\n",
        "OPTIONS: Get supported HTTP methods\n",
        "\n",
        "🔹 Purpose of the @app.route() decorator in Flask?\n",
        "It binds a URL path to a view function, enabling Flask to know what function to execute when a specific URL is requested.\n",
        "\n",
        "🔹 Difference between GET and POST HTTP methods?\n",
        "GET: Requests data; parameters sent via URL; not secure for sensitive data.\n",
        "\n",
        "POST: Submits data; parameters sent in the body; more secure for forms.\n",
        "\n",
        "🔹 How do you handle errors in Flask APIs?\n",
        "Using @app.errorhandler:\n",
        "\n",
        "python\n",
        "Copy\n",
        "Edit\n",
        "@app.errorhandler(404)\n",
        "def not_found(e):\n",
        "    return {\"error\": \"Not found\"}, 404\n",
        "🔹 How do you connect Flask to a SQL database?\n",
        "Using SQLAlchemy:\n",
        "\n",
        "python\n",
        "Copy\n",
        "Edit\n",
        "from flask_sqlalchemy import SQLAlchemy\n",
        "\n",
        "app.config['SQLALCHEMY_DATABASE_URI'] = 'sqlite:///data.db'\n",
        "db = SQLAlchemy(app)\n",
        "🔹 Role of Flask-SQLAlchemy?\n",
        "It integrates SQLAlchemy with Flask, allowing ORM (Object Relational Mapping) for easy database management.\n",
        "\n",
        "🔹 What are Flask blueprints, and how are they useful?\n",
        "Blueprints let you organize your app into reusable modules. Useful for large applications by separating routes logically.\n",
        "\n",
        "🔹 Purpose of Flask's request object?\n",
        "It allows access to incoming request data like form inputs, JSON, headers, etc.\n",
        "\n",
        "python\n",
        "Copy\n",
        "Edit\n",
        "from flask import request\n",
        "data = request.json\n",
        "🔹 How do you create a RESTful API endpoint using Flask?\n",
        "python\n",
        "Copy\n",
        "Edit\n",
        "@app.route('/api/data', methods=['GET'])\n",
        "def get_data():\n",
        "    return {\"message\": \"Here is your data\"}\n",
        "🔹 Purpose of Flask's jsonify() function?\n",
        "Converts Python dictionaries/lists into proper JSON responses with appropriate headers.\n",
        "\n",
        "🔹 Explain Flask’s url_for() function.\n",
        "Generates dynamic URLs based on the view function’s name:\n",
        "\n",
        "python\n",
        "Copy\n",
        "Edit\n",
        "url_for('home')  # returns \"/\"\n",
        "🔹 How does Flask handle static files (CSS, JavaScript, etc.)?\n",
        "Flask automatically serves files from the /static folder.\n",
        "E.g., static/style.css can be accessed at localhost:5000/static/style.css.\n",
        "\n",
        "🔹 What is an API specification, and how does it help in building a Flask API?\n",
        "It acts as a contract for how the API behaves. Tools like Swagger/OpenAPI ensure documentation, testing, and client integration are seamless.\n",
        "\n",
        "🔹 What are HTTP status codes, and why are they important in a Flask API?\n",
        "They indicate the result of HTTP requests:\n",
        "\n",
        "200: OK\n",
        "\n",
        "201: Created\n",
        "\n",
        "400: Bad Request\n",
        "\n",
        "404: Not Found\n",
        "\n",
        "500: Server Error\n",
        "They help clients handle responses properly.\n",
        "\n",
        "🔹 How do you handle POST requests in Flask?\n",
        "python\n",
        "Copy\n",
        "Edit\n",
        "@app.route('/submit', methods=['POST'])\n",
        "def submit():\n",
        "    data = request.json\n",
        "    return jsonify(data), 201\n",
        "🔹 How would you secure a Flask API?\n",
        "Use HTTPS\n",
        "\n",
        "Validate and sanitize inputs\n",
        "\n",
        "Use authentication (e.g., JWT)\n",
        "\n",
        "Limit request rates\n",
        "\n",
        "Set CORS policies\n",
        "\n",
        "🔹 Significance of Flask-RESTful extension?\n",
        "Provides tools to build REST APIs more easily, like class-based resources and automatic HTTP status handling.\n",
        "\n",
        "🔹 Role of Flask’s session object?\n",
        "Stores data across requests per user (e.g., login status). It uses cookies and can be secured with a secret key."
      ],
      "metadata": {
        "id": "Lg4VaaPl9028"
      }
    },
    {
      "cell_type": "markdown",
      "source": [
        "                                                           Practical"
      ],
      "metadata": {
        "id": "vzp4JdKWAhUQ"
      }
    },
    {
      "cell_type": "code",
      "source": [
        "from flask import Flask\n",
        "\n",
        "app = Flask(__name__)\n",
        "\n",
        "@app.route(\"/\")\n",
        "def home():\n",
        "    return \"Hello, Flask!\"\n",
        "\n",
        "if __name__ == \"__main__\":\n",
        "    app.run(debug=True)\n"
      ],
      "metadata": {
        "colab": {
          "base_uri": "https://localhost:8080/"
        },
        "id": "VR6ip9ZDApFE",
        "outputId": "3b8be831-8896-475b-b391-04c421ac9c29"
      },
      "execution_count": null,
      "outputs": [
        {
          "output_type": "stream",
          "name": "stdout",
          "text": [
            " * Serving Flask app '__main__'\n",
            " * Debug mode: on\n"
          ]
        },
        {
          "output_type": "stream",
          "name": "stderr",
          "text": [
            "INFO:werkzeug:\u001b[31m\u001b[1mWARNING: This is a development server. Do not use it in a production deployment. Use a production WSGI server instead.\u001b[0m\n",
            " * Running on http://127.0.0.1:5000\n",
            "INFO:werkzeug:\u001b[33mPress CTRL+C to quit\u001b[0m\n",
            "INFO:werkzeug: * Restarting with stat\n"
          ]
        }
      ]
    },
    {
      "cell_type": "code",
      "source": [
        "@app.route(\"/submit\", methods=[\"GET\", \"POST\"])\n",
        "def submit():\n",
        "    if request.method == \"POST\":\n",
        "        return \"Form submitted!\"\n",
        "    return \"Submit the form\"\n"
      ],
      "metadata": {
        "id": "Sfk-dmjyAyRP"
      },
      "execution_count": null,
      "outputs": []
    },
    {
      "cell_type": "code",
      "source": [
        "from flask import render_template\n",
        "\n",
        "@app.route(\"/\")\n",
        "def home():\n",
        "    return render_template(\"index.html\")\n"
      ],
      "metadata": {
        "id": "hbH4ATDQA2q_"
      },
      "execution_count": null,
      "outputs": []
    },
    {
      "cell_type": "code",
      "source": [
        "@app.route(\"/profile/<username>\")\n",
        "def profile(username):\n",
        "    return f\"Profile of {username}\"\n",
        "\n",
        "# Generate URL:\n",
        "url_for('profile', username='john')  # returns '/profile/john'\n"
      ],
      "metadata": {
        "id": "3LOGZ1M_A6Ly"
      },
      "execution_count": null,
      "outputs": []
    },
    {
      "cell_type": "code",
      "source": [
        "@app.route('/form', methods=['GET', 'POST'])\n",
        "def form():\n",
        "    if request.method == 'POST':\n",
        "        name = request.form['name']\n",
        "        return f\"Hello, {name}\"\n",
        "    return render_template(\"form.html\")\n"
      ],
      "metadata": {
        "id": "OrpAJLDTA8g6"
      },
      "execution_count": null,
      "outputs": []
    },
    {
      "cell_type": "code",
      "source": [
        "from flask_wtf import FlaskForm\n",
        "from wtforms import StringField, SubmitField\n",
        "from wtforms.validators import DataRequired\n",
        "\n",
        "class MyForm(FlaskForm):\n",
        "    name = StringField(\"Name\", validators=[DataRequired()])\n"
      ],
      "metadata": {
        "id": "awRtzkITBGqq"
      },
      "execution_count": null,
      "outputs": []
    },
    {
      "cell_type": "code",
      "source": [
        "from flask import session\n",
        "\n",
        "app.secret_key = 'your_secret_key'\n",
        "\n",
        "# Set a session variable\n",
        "session['user'] = 'john'\n",
        "\n",
        "# Access it\n",
        "user = session.get('user')\n"
      ],
      "metadata": {
        "id": "ce-HOwtiBIe1"
      },
      "execution_count": null,
      "outputs": []
    },
    {
      "cell_type": "code",
      "source": [
        "from flask import redirect, url_for\n",
        "\n",
        "@app.route(\"/go_home\")\n",
        "def go_home():\n",
        "    return redirect(url_for('home'))\n"
      ],
      "metadata": {
        "id": "vVWVN4MNBLUY"
      },
      "execution_count": null,
      "outputs": []
    },
    {
      "cell_type": "code",
      "source": [
        "@app.errorhandler(404)\n",
        "def page_not_found(e):\n",
        "    return render_template(\"404.html\"), 404\n"
      ],
      "metadata": {
        "id": "dvDAMWz3BNGr"
      },
      "execution_count": null,
      "outputs": []
    },
    {
      "cell_type": "code",
      "source": [
        "# myapp/routes.py\n",
        "from flask import Blueprint\n",
        "\n",
        "bp = Blueprint('main', __name__)\n",
        "\n",
        "@bp.route('/')\n",
        "def index():\n",
        "    return \"From blueprint\"\n",
        "\n",
        "# main app\n",
        "from myapp.routes import bp\n",
        "app.register_blueprint(bp)\n"
      ],
      "metadata": {
        "id": "n7EKlGvpBQzP"
      },
      "execution_count": null,
      "outputs": []
    },
    {
      "cell_type": "code",
      "source": [
        "@app.template_filter('reverse')\n",
        "def reverse_filter(s):\n",
        "    return s[::-1]\n",
        "\n",
        "# Use in template: {{ \"hello\" | reverse }}\n"
      ],
      "metadata": {
        "id": "BSexWZVGBRee"
      },
      "execution_count": null,
      "outputs": []
    },
    {
      "cell_type": "code",
      "source": [
        "from flask import jsonify\n",
        "\n",
        "@app.route('/data')\n",
        "def data():\n",
        "    return jsonify(name=\"Flask\", version=2.0)\n"
      ],
      "metadata": {
        "id": "USyrbk_tBTO0"
      },
      "execution_count": null,
      "outputs": []
    }
  ]
}